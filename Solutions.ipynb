{
 "cells": [
  {
   "cell_type": "markdown",
   "metadata": {},
   "source": [
    "# Solutions(Single fold and single model)\n",
    "\n",
    "Congrats to all. Many thanks to Kaggle and the organizers for holding this competition. Here is 2st solution sharing:\n",
    "\n",
    "### Class and Label\n",
    "- Pseudo Label (>=0.95 confidence)\n",
    "- Single fold\n",
    "\n",
    "### Data augmentation\n",
    "- HorizontalFlip\n",
    "- VerticalFlip\n",
    "- ShiftScaleRotate\n",
    "- IAAEmboss、IAASharpen、Blur\n",
    "- IAAPiecewiseAffine\n",
    "- Random Erasing\n",
    "\n",
    "### Backbone\n",
    "- Pnasnet5large（0.98182 in private LB, 0.98189 public in  LB, final submission）\n",
    "- ResneSt101 (0.97481 in private LB, 0.98240 public in  LB)\n",
    "\n",
    "\n",
    "### Imagesize\n",
    "- Resize the image into (545,545)\n",
    "\n",
    "### Loss and Learning rate\n",
    "- CrossEntropyLoss\n",
    "- CosineSchedule with 30 epoch and Warmup\n"
   ]
  },
  {
   "cell_type": "code",
   "execution_count": null,
   "metadata": {},
   "outputs": [],
   "source": []
  }
 ],
 "metadata": {
  "kernelspec": {
   "display_name": "db_pytorch",
   "language": "python",
   "name": "db_pytorcch"
  },
  "language_info": {
   "codemirror_mode": {
    "name": "ipython",
    "version": 3
   },
   "file_extension": ".py",
   "mimetype": "text/x-python",
   "name": "python",
   "nbconvert_exporter": "python",
   "pygments_lexer": "ipython3",
   "version": "3.6.9"
  }
 },
 "nbformat": 4,
 "nbformat_minor": 2
}
